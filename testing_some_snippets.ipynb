{
 "cells": [
  {
   "cell_type": "code",
   "execution_count": null,
   "metadata": {},
   "outputs": [
    {
     "name": "stdout",
     "output_type": "stream",
     "text": [
      "Accuracy: 80.00%\n"
     ]
    }
   ],
   "source": [
    "# initial comment: This script calculates the accuracy of a binary classification model.\n",
    "# Actual values\n",
    "actual = [1, 0, 1, 1, 0, 1, 0, 0, 1, 0]\n",
    "\n",
    "# Predicted values\n",
    "predicted = [1, 0, 1, 0, 0, 1, 0, 1, 1, 0]\n",
    "\n",
    "# Calculate accuracy\n",
    "correct_predictions = sum(a == p for a, p in zip(actual, predicted))\n",
    "accuracy = correct_predictions / len(actual)\n",
    "print(f\"Accuracy: {accuracy * 100:.2f}%\")"
   ]
  },
  {
   "cell_type": "code",
   "execution_count": 4,
   "metadata": {},
   "outputs": [
    {
     "name": "stdout",
     "output_type": "stream",
     "text": [
      "Correct indices: [1, 2, 4, 5, 8]\n"
     ]
    }
   ],
   "source": [
    "import random\n",
    "\n",
    "# Actual values\n",
    "actual = [1, 0, 1, 1, 0, 1, 0, 0, 1, 0]\n",
    "n = len(actual)\n",
    "\n",
    "# Set initial accuracy to 50%\n",
    "initial_accuracy = 0.5\n",
    "num_correct = int(initial_accuracy * n)\n",
    "\n",
    "# Randomly pick indices to be correct\n",
    "indices = list(range(n))\n",
    "random.shuffle(indices)\n",
    "correct_indices = indices[:num_correct]\n",
    "correct_indices.sort()\n",
    "predicted = [1 if i in correct_indices else 0 for i in range(n)]    \n",
    "print(f\"Correct indices: {correct_indices}\")\n",
    "# Create predicted values based on correct indices  "
   ]
  }
 ],
 "metadata": {
  "kernelspec": {
   "display_name": "Python 3",
   "language": "python",
   "name": "python3"
  },
  "language_info": {
   "codemirror_mode": {
    "name": "ipython",
    "version": 3
   },
   "file_extension": ".py",
   "mimetype": "text/x-python",
   "name": "python",
   "nbconvert_exporter": "python",
   "pygments_lexer": "ipython3",
   "version": "3.11.9"
  }
 },
 "nbformat": 4,
 "nbformat_minor": 2
}
