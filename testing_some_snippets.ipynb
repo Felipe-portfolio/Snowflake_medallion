{
 "cells": [
  {
   "cell_type": "code",
   "execution_count": null,
   "metadata": {},
   "outputs": [
    {
     "name": "stdout",
     "output_type": "stream",
     "text": [
      "Accuracy: 80.00%\n"
     ]
    }
   ],
   "source": [
    "# initial comment: This script calculates the accuracy of a binary classification model.\n",
    "# Actual values\n",
    "actual = [1, 0, 1, 1, 0, 1, 0, 0, 1, 0]\n",
    "\n",
    "# Predicted values\n",
    "predicted = [1, 0, 1, 0, 0, 1, 0, 1, 1, 0]\n",
    "\n",
    "# Calculate accuracy\n",
    "correct_predictions = sum(a == p for a, p in zip(actual, predicted))\n",
    "accuracy = correct_predictions / len(actual)\n",
    "print(f\"Accuracy: {accuracy * 100:.2f}%\")"
   ]
  },
  {
   "cell_type": "code",
   "execution_count": 4,
   "metadata": {},
   "outputs": [
    {
     "name": "stdout",
     "output_type": "stream",
     "text": [
      "Correct indices: [1, 2, 4, 5, 8]\n"
     ]
    }
   ],
   "source": [
    "import random\n",
    "\n",
    "# Actual values\n",
    "actual = [1, 0, 1, 1, 0, 1, 0, 0, 1, 0]\n",
    "n = len(actual)\n",
    "\n",
    "# Set initial accuracy to 50%\n",
    "initial_accuracy = 0.5\n",
    "num_correct = int(initial_accuracy * n)\n",
    "\n",
    "# Randomly pick indices to be correct\n",
    "indices = list(range(n))\n",
    "random.shuffle(indices)\n",
    "correct_indices = indices[:num_correct]\n",
    "correct_indices.sort()\n",
    "predicted = [1 if i in correct_indices else 0 for i in range(n)]    \n",
    "print(f\"Correct indices: {correct_indices}\")\n",
    "# Create predicted values based on correct indices  "
   ]
  },
  {
   "cell_type": "code",
   "execution_count": null,
   "metadata": {},
   "outputs": [
    {
     "name": "stdout",
     "output_type": "stream",
     "text": [
      "Iteration 1 - Accuracy: 50.00%\n",
      "Predictions: [0, 0, 1, 0, 0, 1, 1, 1, 1, 1]\n",
      "Iteration 2 - Accuracy: 70.00%\n",
      "Predictions: [1, 0, 1, 1, 0, 1, 1, 1, 1, 1]\n",
      "Iteration 3 - Accuracy: 90.00%\n",
      "Predictions: [1, 0, 1, 1, 0, 1, 0, 0, 1, 1]\n",
      "Iteration 4 - Accuracy: 100.00%\n",
      "Predictions: [1, 0, 1, 1, 0, 1, 0, 0, 1, 0]\n"
     ]
    }
   ],
   "source": [
    "# Build initial predicted list:\n",
    "predicted = []\n",
    "for i in range(n):\n",
    "    if i in correct_indices:\n",
    "        predicted.append(actual[i])\n",
    "    else:\n",
    "        # Intentionally flip the value to be incorrect\n",
    "        predicted.append(1 - actual[i])\n",
    "\n",
    "def compute_accuracy(actual, predicted):\n",
    "    return sum(a == p for a, p in zip(actual, predicted)) / n\n",
    "\n",
    "# Print initial accuracy\n",
    "accuracy = compute_accuracy(actual, predicted)\n",
    "print(f\"Iteration 1 - Accuracy: {accuracy * 100:.2f}%\")\n",
    "print(\"Predictions:\", predicted)\n",
    "\n",
    "# Define the improvement: correct approximately 25% of the total samples per iteration.\n",
    "improvement = int(0.25 * n)  # For n=10, this is 2\n",
    "\n",
    "iteration = 2\n",
    "while accuracy < 1.0:\n",
    "    # Identify indices where predictions are incorrect\n",
    "    incorrect_indices = [i for i in range(n) if actual[i] != predicted[i]]\n",
    "    \n",
    "    if not incorrect_indices:\n",
    "        break  # Stop if there are no errors\n",
    "    \n",
    "    # Fix a subset of the incorrect predictions (or all if fewer remain)\n",
    "    indices_to_fix = incorrect_indices[:min(improvement, len(incorrect_indices))]\n",
    "    for i in indices_to_fix:\n",
    "        predicted[i] = actual[i]\n",
    "    \n",
    "    accuracy = compute_accuracy(actual, predicted)\n",
    "    print(f\"Iteration {iteration} - Accuracy: {accuracy * 100:.2f}%\")\n",
    "    print(\"Predictions:\", predicted)\n",
    "    \n",
    "    iteration += 1\n",
    "    # Check if we have reached 100% accuracy\n",
    "    if accuracy == 1.0:\n",
    "        print(\"Reached 100% accuracy!\")\n",
    "        break"
   ]
  }
 ],
 "metadata": {
  "kernelspec": {
   "display_name": "Python 3",
   "language": "python",
   "name": "python3"
  },
  "language_info": {
   "codemirror_mode": {
    "name": "ipython",
    "version": 3
   },
   "file_extension": ".py",
   "mimetype": "text/x-python",
   "name": "python",
   "nbconvert_exporter": "python",
   "pygments_lexer": "ipython3",
   "version": "3.11.9"
  }
 },
 "nbformat": 4,
 "nbformat_minor": 2
}
