{
 "cells": [
  {
   "cell_type": "code",
   "execution_count": 1,
   "metadata": {},
   "outputs": [],
   "source": [
    "import polars as pl\n",
    "import os\n",
    "from io import StringIO"
   ]
  },
  {
   "cell_type": "code",
   "execution_count": 2,
   "metadata": {},
   "outputs": [],
   "source": [
    "# CONFIG\n",
    "INPUT_FILE = 'sales.csv'\n",
    "OUTPUT_DIR = 'micro_partitions_polars'\n",
    "MAX_FILE_SIZE_MB = 10\n",
    "MAX_FILE_SIZE_BYTES = MAX_FILE_SIZE_MB * 1024 * 1024\n",
    "MAX_FILES = 10\n",
    "CHUNK_SIZE = 1000  # how many rows to process per check"
   ]
  },
  {
   "cell_type": "code",
   "execution_count": 3,
   "metadata": {},
   "outputs": [],
   "source": [
    "os.makedirs(OUTPUT_DIR, exist_ok=True)"
   ]
  },
  {
   "cell_type": "code",
   "execution_count": 4,
   "metadata": {},
   "outputs": [
    {
     "name": "stdout",
     "output_type": "stream",
     "text": [
      "📥 Loading CSV with Polars...\n",
      "🚀 Starting Polars split | Target: 10 files @ 10MB max each\n",
      "\n",
      "🔄 Processed: 179,000/6,758,125 | Buffer Size: 10.06 MB | File: 1/10\n",
      "✅ Written micro_partitions_polars\\sales_partition_1.csv | Size: 10.06 MB\n",
      "🔄 Processed: 347,000/6,758,125 | Buffer Size: 10.05 MB | File: 2/10\n",
      "✅ Written micro_partitions_polars\\sales_partition_2.csv | Size: 10.05 MB\n",
      "🔄 Processed: 515,000/6,758,125 | Buffer Size: 10.05 MB | File: 3/10\n",
      "✅ Written micro_partitions_polars\\sales_partition_3.csv | Size: 10.05 MB\n",
      "🔄 Processed: 683,000/6,758,125 | Buffer Size: 10.05 MB | File: 4/10\n",
      "✅ Written micro_partitions_polars\\sales_partition_4.csv | Size: 10.05 MB\n",
      "🔄 Processed: 851,000/6,758,125 | Buffer Size: 10.05 MB | File: 5/10\n",
      "✅ Written micro_partitions_polars\\sales_partition_5.csv | Size: 10.05 MB\n",
      "🔄 Processed: 1,019,000/6,758,125 | Buffer Size: 10.05 MB | File: 6/10\n",
      "✅ Written micro_partitions_polars\\sales_partition_6.csv | Size: 10.05 MB\n",
      "🔄 Processed: 1,187,000/6,758,125 | Buffer Size: 10.05 MB | File: 7/10\n",
      "✅ Written micro_partitions_polars\\sales_partition_7.csv | Size: 10.05 MB\n",
      "🔄 Processed: 1,355,000/6,758,125 | Buffer Size: 10.05 MB | File: 8/10\n",
      "✅ Written micro_partitions_polars\\sales_partition_8.csv | Size: 10.05 MB\n",
      "🔄 Processed: 1,523,000/6,758,125 | Buffer Size: 10.05 MB | File: 9/10\n",
      "✅ Written micro_partitions_polars\\sales_partition_9.csv | Size: 10.05 MB\n",
      "🔄 Processed: 1,691,000/6,758,125 | Buffer Size: 10.05 MB | File: 10/10\n",
      "✅ Written micro_partitions_polars\\sales_partition_10.csv | Size: 10.05 MB\n",
      "🛑 Max file limit reached.\n",
      "\n",
      "🎉 Done! Files split using Polars.\n"
     ]
    }
   ],
   "source": [
    "# Load and prepare data\n",
    "print(\"📥 Loading CSV with Polars...\")\n",
    "df = pl.read_csv(INPUT_FILE)\n",
    "\n",
    "# Convert 'SalesDate' from string to datetime\n",
    "df = df.with_columns(\n",
    "    pl.col(\"SalesDate\").str.to_datetime().alias(\"SalesDate\")\n",
    ")\n",
    "\n",
    "# Extract the date part\n",
    "df = df.with_columns(\n",
    "    pl.col(\"SalesDate\").dt.date().alias(\"SalesDate\")\n",
    ")\n",
    "\n",
    "df = df.sort(\"SalesDate\")\n",
    "total_rows = df.shape[0]\n",
    "\n",
    "# Init\n",
    "file_counter = 1\n",
    "rows_processed = 0\n",
    "buffer = pl.DataFrame()\n",
    "\n",
    "print(f\"🚀 Starting Polars split | Target: {MAX_FILES} files @ {MAX_FILE_SIZE_MB}MB max each\\n\")\n",
    "\n",
    "# Process in chunks\n",
    "for i in range(0, total_rows, CHUNK_SIZE):\n",
    "    chunk = df.slice(i, CHUNK_SIZE)\n",
    "    buffer = pl.concat([buffer, chunk])\n",
    "\n",
    "    csv_str = buffer.write_csv()\n",
    "    current_size = len(csv_str.encode(\"utf-8\"))\n",
    "\n",
    "    rows_processed += chunk.shape[0]\n",
    "    print(\n",
    "        f\"🔄 Processed: {rows_processed:,}/{total_rows:,} | \"\n",
    "        f\"Buffer Size: {round(current_size / 1024 / 1024, 2)} MB | \"\n",
    "        f\"File: {file_counter}/{MAX_FILES}\",\n",
    "        end=\"\\r\"\n",
    "    )\n",
    "\n",
    "    if current_size >= MAX_FILE_SIZE_BYTES:\n",
    "        output_path = os.path.join(OUTPUT_DIR, f\"sales_partition_{file_counter}.csv\")\n",
    "        with open(output_path, \"w\", encoding=\"utf-8\") as f:\n",
    "            f.write(csv_str)\n",
    "        print(f\"\\n✅ Written {output_path} | Size: {round(current_size / 1024 / 1024, 2)} MB\")\n",
    "\n",
    "        file_counter += 1\n",
    "        buffer = pl.DataFrame()\n",
    "\n",
    "        if file_counter > MAX_FILES:\n",
    "            print(\"🛑 Max file limit reached.\")\n",
    "            break\n",
    "\n",
    "# Write leftover rows if any\n",
    "if buffer.height > 0 and file_counter <= MAX_FILES:\n",
    "    final_path = os.path.join(OUTPUT_DIR, f\"sales_partition_{file_counter}.csv\")\n",
    "    with open(final_path, \"w\", encoding=\"utf-8\") as f:\n",
    "        f.write(buffer.write_csv())\n",
    "    print(f\"\\n✅ Final file written: {final_path} | Rows: {buffer.height}\")\n",
    "\n",
    "print(\"\\n🎉 Done! Files split using Polars.\")"
   ]
  }
 ],
 "metadata": {
  "kernelspec": {
   "display_name": "Python 3",
   "language": "python",
   "name": "python3"
  },
  "language_info": {
   "codemirror_mode": {
    "name": "ipython",
    "version": 3
   },
   "file_extension": ".py",
   "mimetype": "text/x-python",
   "name": "python",
   "nbconvert_exporter": "python",
   "pygments_lexer": "ipython3",
   "version": "3.11.9"
  }
 },
 "nbformat": 4,
 "nbformat_minor": 2
}
